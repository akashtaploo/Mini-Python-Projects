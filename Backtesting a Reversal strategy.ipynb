{
  "nbformat": 4,
  "nbformat_minor": 0,
  "metadata": {
    "colab": {
      "provenance": []
    },
    "kernelspec": {
      "name": "python3",
      "display_name": "Python 3"
    },
    "language_info": {
      "name": "python"
    }
  },
  "cells": [
    {
      "cell_type": "markdown",
      "source": [
        "Exercise 1: Backtest the reversal strategy using stocks_SP500 file. Do the backtesting by forming long/short portfolios."
      ],
      "metadata": {
        "id": "BhiQZNL97poD"
      }
    },
    {
      "cell_type": "code",
      "execution_count": null,
      "metadata": {
        "colab": {
          "base_uri": "https://localhost:8080/"
        },
        "id": "BOjwkKpA7l_4",
        "outputId": "d6610646-28ca-4b1d-dfb5-d80e1464e05a"
      },
      "outputs": [
        {
          "output_type": "stream",
          "name": "stdout",
          "text": [
            "             permno       start      ending       ret          mcap  \\\n",
            "date                                                                  \n",
            "2000-01-31  60206.0  1982-09-16  2022-12-30  0.011765  1.572698e+06   \n",
            "2000-01-31  11850.0  1925-12-31  2022-12-30  0.035687  2.888251e+08   \n",
            "2000-01-31  17830.0  1957-03-01  2022-12-30 -0.185577  2.534335e+07   \n",
            "2000-01-31  53613.0  1994-09-27  2022-12-30 -0.200161  1.582193e+07   \n",
            "2000-01-31  44644.0  1981-02-26  2022-12-30 -0.119490  2.965356e+07   \n",
            "...             ...         ...         ...       ...           ...   \n",
            "2022-12-30  64390.0  1997-08-04  2022-12-30 -0.018464  7.588943e+07   \n",
            "2022-12-30  85058.0  2006-04-03  2022-12-30 -0.048835  1.059350e+07   \n",
            "2022-12-30  23819.0  1957-03-01  2022-12-30  0.041700  3.573165e+07   \n",
            "2022-12-30  75694.0  2021-08-30  2022-12-30 -0.024826  1.300967e+07   \n",
            "2022-12-30  18411.0  1944-06-07  2022-12-30  0.055736  7.774214e+07   \n",
            "\n",
            "                                   comnam    ncusip      namedt    nameendt  \\\n",
            "date                                                                          \n",
            "2000-01-31                    SNAP ON INC  83303410  1994-05-09  2002-01-01   \n",
            "2000-01-31               EXXON MOBIL CORP  30231G10  1999-12-01  2002-01-01   \n",
            "2000-01-31       UNITED TECHNOLOGIES CORP  91301710  1975-05-01  2002-01-01   \n",
            "2000-01-31          MICRON TECHNOLOGY INC  59511210  1990-11-30  2001-08-23   \n",
            "2000-01-31  AUTOMATIC DATA PROCESSING INC  05301510  1970-11-10  2000-11-30   \n",
            "...                                   ...       ...         ...         ...   \n",
            "2022-12-30            PROGRESSIVE CORP OH  74331510  2004-06-10  2022-12-30   \n",
            "2022-12-30          BOSTON PROPERTIES INC  10112110  2020-03-02  2022-12-30   \n",
            "2022-12-30                 HALLIBURTON CO  40621610  2004-06-10  2022-12-30   \n",
            "2022-12-30                BIO TECHNE CORP  09073M10  2014-11-04  2022-12-30   \n",
            "2022-12-30                    SOUTHERN CO  84258710  2017-02-22  2022-12-30   \n",
            "\n",
            "            shrcd  exchcd  hsiccd ticker        bm  \n",
            "date                                                \n",
            "2000-01-31   11.0     1.0  5251.0    SNA  0.000527  \n",
            "2000-01-31   11.0     1.0  2911.0    XOM  0.000152  \n",
            "2000-01-31   11.0     1.0  3724.0    UTX  0.000280  \n",
            "2000-01-31   11.0     1.0  3674.0     MU  0.000270  \n",
            "2000-01-31   11.0     1.0  7374.0    AUD  0.000143  \n",
            "...           ...     ...     ...    ...       ...  \n",
            "2022-12-30   11.0     1.0  6331.0    PGR       NaN  \n",
            "2022-12-30   18.0     1.0  6798.0    BXP       NaN  \n",
            "2022-12-30   11.0     1.0  1389.0    HAL       NaN  \n",
            "2022-12-30   11.0     3.0  2836.0   TECH       NaN  \n",
            "2022-12-30   11.0     1.0  4911.0     SO       NaN  \n",
            "\n",
            "[138443 rows x 14 columns]\n"
          ]
        }
      ],
      "source": [
        "import datetime as dt\n",
        "import yfinance as yf\n",
        "import pandas as pd\n",
        "import matplotlib.pyplot as plt\n",
        "\n",
        "!pip install empyrical\n",
        "import numpy as np\n",
        "import empyrical as ep\n",
        "df = pd.read_csv('stocks_SP500.csv')\n",
        "df['date'] = pd.to_datetime(df['date'].str.strip(), format='%Y-%m-%d')\n",
        "df= df.set_index('date')\n",
        "print(df)"
      ]
    },
    {
      "cell_type": "markdown",
      "source": [
        "Don't need to run next code block if F-F_Research_Data_Factors.csv is already obtained."
      ],
      "metadata": {
        "id": "b6NKXdWZuTWG"
      }
    },
    {
      "cell_type": "code",
      "source": [
        "# import requests, zipfile, io\n",
        "# url = 'https://mba.tuck.dartmouth.edu/pages/faculty/ken.french/ftp/F-F_Research_Data_Factors_CSV.zip'\n",
        "# response = requests.get(url, stream=True)\n",
        "# zipfile = zipfile.ZipFile(io.BytesIO(response.content))\n",
        "# zipfile.extractall()\n",
        "# rf = pd.read_csv('F-F_Research_Data_Factors.CSV', skiprows=10)\n",
        "\n",
        "\n",
        "# clean the rf data manually - add date, delete the headers and annualy risk free rates at the end"
      ],
      "metadata": {
        "id": "mJoWX5aE9YVK"
      },
      "execution_count": null,
      "outputs": []
    },
    {
      "cell_type": "code",
      "source": [
        "rf = pd.read_csv('F-F_Research_Data_Factors.csv')\n",
        "#merge rf with df sample\n",
        "#put the dates in common format\n",
        "rf.index = pd.to_datetime(rf['date'], format='%Y%m',errors='coerce').dropna()\n",
        "rf.index = rf.index.strftime('%Y-%m')\n",
        "df.index = df.index.strftime('%Y-%m')\n",
        "df= df.join(rf)\n",
        "\n",
        "#df= pd.merge(df, rf)\n",
        "#calculating excess returns - RF is in %\n",
        "df[\"exret\"]= df[\"ret\"]- (df[\"RF\"]/100)\n",
        "df.index = pd.to_datetime(df.index, format='%Y-%m')\n",
        "print(df)"
      ],
      "metadata": {
        "colab": {
          "base_uri": "https://localhost:8080/"
        },
        "id": "oZKHfyW27hu2",
        "outputId": "1258e26c-e324-49aa-f74e-05e8c7ca451d"
      },
      "execution_count": null,
      "outputs": [
        {
          "output_type": "stream",
          "name": "stdout",
          "text": [
            "             permno       start      ending       ret          mcap  \\\n",
            "date                                                                  \n",
            "2000-01-01  60206.0  1982-09-16  2022-12-30  0.011765  1.572698e+06   \n",
            "2000-01-01  11850.0  1925-12-31  2022-12-30  0.035687  2.888251e+08   \n",
            "2000-01-01  17830.0  1957-03-01  2022-12-30 -0.185577  2.534335e+07   \n",
            "2000-01-01  53613.0  1994-09-27  2022-12-30 -0.200161  1.582193e+07   \n",
            "2000-01-01  44644.0  1981-02-26  2022-12-30 -0.119490  2.965356e+07   \n",
            "...             ...         ...         ...       ...           ...   \n",
            "2022-12-01  64390.0  1997-08-04  2022-12-30 -0.018464  7.588943e+07   \n",
            "2022-12-01  85058.0  2006-04-03  2022-12-30 -0.048835  1.059350e+07   \n",
            "2022-12-01  23819.0  1957-03-01  2022-12-30  0.041700  3.573165e+07   \n",
            "2022-12-01  75694.0  2021-08-30  2022-12-30 -0.024826  1.300967e+07   \n",
            "2022-12-01  18411.0  1944-06-07  2022-12-30  0.055736  7.774214e+07   \n",
            "\n",
            "                                   comnam    ncusip      namedt    nameendt  \\\n",
            "date                                                                          \n",
            "2000-01-01                    SNAP ON INC  83303410  1994-05-09  2002-01-01   \n",
            "2000-01-01               EXXON MOBIL CORP  30231G10  1999-12-01  2002-01-01   \n",
            "2000-01-01       UNITED TECHNOLOGIES CORP  91301710  1975-05-01  2002-01-01   \n",
            "2000-01-01          MICRON TECHNOLOGY INC  59511210  1990-11-30  2001-08-23   \n",
            "2000-01-01  AUTOMATIC DATA PROCESSING INC  05301510  1970-11-10  2000-11-30   \n",
            "...                                   ...       ...         ...         ...   \n",
            "2022-12-01            PROGRESSIVE CORP OH  74331510  2004-06-10  2022-12-30   \n",
            "2022-12-01          BOSTON PROPERTIES INC  10112110  2020-03-02  2022-12-30   \n",
            "2022-12-01                 HALLIBURTON CO  40621610  2004-06-10  2022-12-30   \n",
            "2022-12-01                BIO TECHNE CORP  09073M10  2014-11-04  2022-12-30   \n",
            "2022-12-01                    SOUTHERN CO  84258710  2017-02-22  2022-12-30   \n",
            "\n",
            "            shrcd  exchcd  hsiccd ticker        bm    date  Mkt-RF   SMB  \\\n",
            "date                                                                       \n",
            "2000-01-01   11.0     1.0  5251.0    SNA  0.000527  200001   -4.74  5.79   \n",
            "2000-01-01   11.0     1.0  2911.0    XOM  0.000152  200001   -4.74  5.79   \n",
            "2000-01-01   11.0     1.0  3724.0    UTX  0.000280  200001   -4.74  5.79   \n",
            "2000-01-01   11.0     1.0  3674.0     MU  0.000270  200001   -4.74  5.79   \n",
            "2000-01-01   11.0     1.0  7374.0    AUD  0.000143  200001   -4.74  5.79   \n",
            "...           ...     ...     ...    ...       ...     ...     ...   ...   \n",
            "2022-12-01   11.0     1.0  6331.0    PGR       NaN  202212   -6.41 -0.68   \n",
            "2022-12-01   18.0     1.0  6798.0    BXP       NaN  202212   -6.41 -0.68   \n",
            "2022-12-01   11.0     1.0  1389.0    HAL       NaN  202212   -6.41 -0.68   \n",
            "2022-12-01   11.0     3.0  2836.0   TECH       NaN  202212   -6.41 -0.68   \n",
            "2022-12-01   11.0     1.0  4911.0     SO       NaN  202212   -6.41 -0.68   \n",
            "\n",
            "             HML    RF     exret  \n",
            "date                              \n",
            "2000-01-01 -1.91  0.41  0.007665  \n",
            "2000-01-01 -1.91  0.41  0.031587  \n",
            "2000-01-01 -1.91  0.41 -0.189677  \n",
            "2000-01-01 -1.91  0.41 -0.204261  \n",
            "2000-01-01 -1.91  0.41 -0.123590  \n",
            "...          ...   ...       ...  \n",
            "2022-12-01  1.32  0.33 -0.021764  \n",
            "2022-12-01  1.32  0.33 -0.052135  \n",
            "2022-12-01  1.32  0.33  0.038400  \n",
            "2022-12-01  1.32  0.33 -0.028126  \n",
            "2022-12-01  1.32  0.33  0.052436  \n",
            "\n",
            "[138443 rows x 20 columns]\n"
          ]
        }
      ]
    },
    {
      "cell_type": "code",
      "source": [
        "# now keep date, permno, ticker, exret, and lag of size (market cap) in the dataframe\n",
        "df= df[[\"permno\", \"ticker\", \"exret\",\"mcap\"]]\n",
        "df['exret_lag'] = df.groupby(['permno'])['exret'].shift(1)\n",
        "#drop observations with nan variables\n",
        "df= df.dropna()\n",
        "print(df)"
      ],
      "metadata": {
        "colab": {
          "base_uri": "https://localhost:8080/"
        },
        "id": "PlBc7wrA7vX-",
        "outputId": "dc032f83-6fa1-4e1e-8a72-84c311779e34"
      },
      "execution_count": null,
      "outputs": [
        {
          "output_type": "stream",
          "name": "stdout",
          "text": [
            "             permno ticker     exret          mcap  exret_lag\n",
            "date                                                         \n",
            "2000-02-01  39917.0     WY -0.109964  1.209938e+07  -0.199574\n",
            "2000-02-01  25081.0    CMA -0.171202  5.757180e+06  -0.057648\n",
            "2000-02-01  49905.0    LIZ  0.106236  2.213193e+06  -0.105429\n",
            "2000-02-01  87292.0    PTV -0.105651  1.392003e+06  -0.133512\n",
            "2000-02-01  65875.0    BEL -0.214189  7.598946e+07   0.008245\n",
            "...             ...    ...       ...           ...        ...\n",
            "2022-12-01  64390.0    PGR -0.021764  7.588943e+07   0.026306\n",
            "2022-12-01  85058.0    BXP -0.052135  1.059350e+07  -0.011428\n",
            "2022-12-01  23819.0    HAL  0.038400  3.573165e+07   0.037462\n",
            "2022-12-01  75694.0   TECH -0.028126  1.300967e+07   0.145686\n",
            "2022-12-01  18411.0     SO  0.052436  7.774214e+07   0.040472\n",
            "\n",
            "[137344 rows x 5 columns]\n"
          ]
        },
        {
          "output_type": "stream",
          "name": "stderr",
          "text": [
            "<ipython-input-4-e6168ea2ec1a>:3: SettingWithCopyWarning: \n",
            "A value is trying to be set on a copy of a slice from a DataFrame.\n",
            "Try using .loc[row_indexer,col_indexer] = value instead\n",
            "\n",
            "See the caveats in the documentation: https://pandas.pydata.org/pandas-docs/stable/user_guide/indexing.html#returning-a-view-versus-a-copy\n",
            "  df['exret_lag'] = df.groupby(['permno'])['exret'].shift(1)\n"
          ]
        }
      ]
    },
    {
      "cell_type": "code",
      "source": [
        "# form long/short portfolios based on their size\n",
        "df['rank'] = df.groupby(['date'])['exret_lag'].rank()\n",
        "df['n'] = df.groupby(['date'])['exret_lag'].count()\n",
        "df['group']= df[\"rank\"]/df['n']\n",
        "#long and short portfolios\n",
        "df['long'] = df.apply(lambda x : 1 if x['group'] < 0.05 else 0, axis=1)\n",
        "df['short'] = df.apply(lambda x : 1 if x['group'] > 0.95 else 0, axis=1)\n",
        "print(df)"
      ],
      "metadata": {
        "colab": {
          "base_uri": "https://localhost:8080/",
          "height": 270
        },
        "id": "CeU-NTWy7yC3",
        "outputId": "988ef32c-ae6b-4af7-fb99-75b58d296f20"
      },
      "execution_count": null,
      "outputs": [
        {
          "output_type": "error",
          "ename": "NameError",
          "evalue": "ignored",
          "traceback": [
            "\u001b[0;31m---------------------------------------------------------------------------\u001b[0m",
            "\u001b[0;31mNameError\u001b[0m                                 Traceback (most recent call last)",
            "\u001b[0;32m<ipython-input-1-a3e662c2b792>\u001b[0m in \u001b[0;36m<cell line: 2>\u001b[0;34m()\u001b[0m\n\u001b[1;32m      1\u001b[0m \u001b[0;31m# form long/short portfolios based on their size\u001b[0m\u001b[0;34m\u001b[0m\u001b[0;34m\u001b[0m\u001b[0m\n\u001b[0;32m----> 2\u001b[0;31m \u001b[0mdf\u001b[0m\u001b[0;34m[\u001b[0m\u001b[0;34m'rank'\u001b[0m\u001b[0;34m]\u001b[0m \u001b[0;34m=\u001b[0m \u001b[0mdf\u001b[0m\u001b[0;34m.\u001b[0m\u001b[0mgroupby\u001b[0m\u001b[0;34m(\u001b[0m\u001b[0;34m[\u001b[0m\u001b[0;34m'date'\u001b[0m\u001b[0;34m]\u001b[0m\u001b[0;34m)\u001b[0m\u001b[0;34m[\u001b[0m\u001b[0;34m'exret_lag'\u001b[0m\u001b[0;34m]\u001b[0m\u001b[0;34m.\u001b[0m\u001b[0mrank\u001b[0m\u001b[0;34m(\u001b[0m\u001b[0;34m)\u001b[0m\u001b[0;34m\u001b[0m\u001b[0;34m\u001b[0m\u001b[0m\n\u001b[0m\u001b[1;32m      3\u001b[0m \u001b[0mdf\u001b[0m\u001b[0;34m[\u001b[0m\u001b[0;34m'n'\u001b[0m\u001b[0;34m]\u001b[0m \u001b[0;34m=\u001b[0m \u001b[0mdf\u001b[0m\u001b[0;34m.\u001b[0m\u001b[0mgroupby\u001b[0m\u001b[0;34m(\u001b[0m\u001b[0;34m[\u001b[0m\u001b[0;34m'date'\u001b[0m\u001b[0;34m]\u001b[0m\u001b[0;34m)\u001b[0m\u001b[0;34m[\u001b[0m\u001b[0;34m'exret_lag'\u001b[0m\u001b[0;34m]\u001b[0m\u001b[0;34m.\u001b[0m\u001b[0mcount\u001b[0m\u001b[0;34m(\u001b[0m\u001b[0;34m)\u001b[0m\u001b[0;34m\u001b[0m\u001b[0;34m\u001b[0m\u001b[0m\n\u001b[1;32m      4\u001b[0m \u001b[0mdf\u001b[0m\u001b[0;34m[\u001b[0m\u001b[0;34m'group'\u001b[0m\u001b[0;34m]\u001b[0m\u001b[0;34m=\u001b[0m \u001b[0mdf\u001b[0m\u001b[0;34m[\u001b[0m\u001b[0;34m\"rank\"\u001b[0m\u001b[0;34m]\u001b[0m\u001b[0;34m/\u001b[0m\u001b[0mdf\u001b[0m\u001b[0;34m[\u001b[0m\u001b[0;34m'n'\u001b[0m\u001b[0;34m]\u001b[0m\u001b[0;34m\u001b[0m\u001b[0;34m\u001b[0m\u001b[0m\n\u001b[1;32m      5\u001b[0m \u001b[0;31m#long and short portfolios\u001b[0m\u001b[0;34m\u001b[0m\u001b[0;34m\u001b[0m\u001b[0m\n",
            "\u001b[0;31mNameError\u001b[0m: name 'df' is not defined"
          ]
        }
      ]
    },
    {
      "cell_type": "code",
      "source": [
        "# Form long/short portfolios\n",
        "df_long= df[df[\"long\"]== 1]\n",
        "df_short= df[df[\"short\"]== 1]\n",
        "long_portfolio_returns= df_long.groupby(['date'])['exret'].mean()\n",
        "print(long_portfolio_returns)\n",
        "short_portfolio_returns= df_short.groupby(['date'])['exret'].mean()\n",
        "print(short_portfolio_returns)"
      ],
      "metadata": {
        "colab": {
          "base_uri": "https://localhost:8080/"
        },
        "id": "x2UDgPSP708G",
        "outputId": "e322f2a6-524f-4ffb-a91c-3f64a5fb03e0"
      },
      "execution_count": null,
      "outputs": [
        {
          "output_type": "stream",
          "name": "stdout",
          "text": [
            "date\n",
            "2000-02-01    0.044631\n",
            "2000-03-01    0.328877\n",
            "2000-04-01   -0.192540\n",
            "2000-05-01    0.061652\n",
            "2000-06-01    0.019706\n",
            "                ...   \n",
            "2022-08-01   -0.039238\n",
            "2022-09-01   -0.159034\n",
            "2022-10-01    0.085830\n",
            "2022-11-01    0.040384\n",
            "2022-12-01   -0.151812\n",
            "Name: exret, Length: 275, dtype: float64\n",
            "date\n",
            "2000-02-01   -0.051050\n",
            "2000-03-01    0.099300\n",
            "2000-04-01    0.009641\n",
            "2000-05-01    0.014538\n",
            "2000-06-01   -0.030021\n",
            "                ...   \n",
            "2022-08-01   -0.036256\n",
            "2022-09-01   -0.093734\n",
            "2022-10-01    0.095539\n",
            "2022-11-01    0.066787\n",
            "2022-12-01   -0.050098\n",
            "Name: exret, Length: 275, dtype: float64\n"
          ]
        }
      ]
    },
    {
      "cell_type": "code",
      "source": [
        "# Combine portfolios: create long-short portfolio\n",
        "total_portfolio_returns = long_portfolio_returns - short_portfolio_returns\n",
        "# Print portfolio returns\n",
        "print(total_portfolio_returns)"
      ],
      "metadata": {
        "colab": {
          "base_uri": "https://localhost:8080/"
        },
        "id": "qL_-efrB74tB",
        "outputId": "b705f82b-a899-461b-f4f3-f219064110b0"
      },
      "execution_count": null,
      "outputs": [
        {
          "output_type": "stream",
          "name": "stdout",
          "text": [
            "date\n",
            "2000-02-01    0.095681\n",
            "2000-03-01    0.229577\n",
            "2000-04-01   -0.202181\n",
            "2000-05-01    0.047114\n",
            "2000-06-01    0.049727\n",
            "                ...   \n",
            "2022-08-01   -0.002982\n",
            "2022-09-01   -0.065300\n",
            "2022-10-01   -0.009709\n",
            "2022-11-01   -0.026402\n",
            "2022-12-01   -0.101713\n",
            "Name: exret, Length: 275, dtype: float64\n"
          ]
        }
      ]
    },
    {
      "cell_type": "code",
      "source": [
        "# evaluate portfolio\n",
        "def strategy_eval(x, name):\n",
        "  strategy_avg = x.mean()\n",
        "  strategy_std = x.std()\n",
        "  strategy_MDD = ep.max_drawdown(x)\n",
        "  strategy_SR = (strategy_avg / strategy_std)\n",
        "  print(name, \"avg\", strategy_avg, \"std:\", strategy_std, \"MDD:\" , strategy_MDD, \"SR:\", strategy_SR)\n",
        "\n",
        "strategy_eval(total_portfolio_returns, \"H-L size portfolio\")\n",
        "# compare with equal weighted portfolio of all stocks\n",
        "ew_portfolio_returns= df.groupby(['date'])['exret'].mean()\n",
        "strategy_eval(ew_portfolio_returns, \"EW portfolio\")"
      ],
      "metadata": {
        "id": "VtB7JT7u784s",
        "colab": {
          "base_uri": "https://localhost:8080/"
        },
        "outputId": "7a0446d6-d0ba-4a3c-be05-6641078e3963"
      },
      "execution_count": null,
      "outputs": [
        {
          "output_type": "stream",
          "name": "stdout",
          "text": [
            "H-L size portfolio avg 0.007634036078963169 std: 0.13118720655075777 MDD: -0.7718815630293332 SR: 0.05819192495732788\n",
            "EW portfolio avg 0.008020714534321386 std: 0.051426373118297036 MDD: -0.570140460866583 SR: 0.1559650048793289\n"
          ]
        }
      ]
    },
    {
      "cell_type": "code",
      "source": [
        "# Plot the cumulative returns for all 3 strategies\n",
        "cr_ew_portfolio_returns = (1 + ew_portfolio_returns).cumprod()\n",
        "cr_total_portfolio_returns = (1 + total_portfolio_returns).cumprod()\n",
        "plt.plot(cr_ew_portfolio_returns, label='Equal weighted strategy')\n",
        "plt.plot(cr_total_portfolio_returns, label='H-L size strategy')\n",
        "plt.legend()\n",
        "plt.show()"
      ],
      "metadata": {
        "colab": {
          "base_uri": "https://localhost:8080/",
          "height": 430
        },
        "id": "BHAYQOE18Ayh",
        "outputId": "dc8b85be-b27e-4d18-c882-678154ca3322"
      },
      "execution_count": null,
      "outputs": [
        {
          "output_type": "display_data",
          "data": {
            "text/plain": [
              "<Figure size 640x480 with 1 Axes>"
            ],
            "image/png": "[encoded data removed]"
          },
          "metadata": {}
        }
      ]
    }
  ]
}