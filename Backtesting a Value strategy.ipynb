{
  "nbformat": 4,
  "nbformat_minor": 0,
  "metadata": {
    "colab": {
      "provenance": []
    },
    "kernelspec": {
      "name": "python3",
      "display_name": "Python 3"
    },
    "language_info": {
      "name": "python"
    }
  },
  "cells": [
    {
      "cell_type": "markdown",
      "source": [
        "Exercise 1: Backtest the value strategy using stocks_SP500 file. Use book to market value (BM) as the predictor. Do the backtesting by forming long/short portfolios."
      ],
      "metadata": {
        "id": "BhiQZNL97poD"
      }
    },
    {
      "cell_type": "code",
      "execution_count": null,
      "metadata": {
        "colab": {
          "base_uri": "https://localhost:8080/"
        },
        "id": "BOjwkKpA7l_4",
        "outputId": "7bbe3f6d-4cb2-429c-bae6-c2aec8de705d"
      },
      "outputs": [
        {
          "output_type": "stream",
          "name": "stdout",
          "text": [
            "             permno       start      ending       ret          mcap  \\\n",
            "date                                                                  \n",
            "2000-01-31  60206.0  1982-09-16  2022-12-30  0.011765  1.572698e+06   \n",
            "2000-01-31  11850.0  1925-12-31  2022-12-30  0.035687  2.888251e+08   \n",
            "2000-01-31  17830.0  1957-03-01  2022-12-30 -0.185577  2.534335e+07   \n",
            "2000-01-31  53613.0  1994-09-27  2022-12-30 -0.200161  1.582193e+07   \n",
            "2000-01-31  44644.0  1981-02-26  2022-12-30 -0.119490  2.965356e+07   \n",
            "...             ...         ...         ...       ...           ...   \n",
            "2022-12-30  64390.0  1997-08-04  2022-12-30 -0.018464  7.588943e+07   \n",
            "2022-12-30  85058.0  2006-04-03  2022-12-30 -0.048835  1.059350e+07   \n",
            "2022-12-30  23819.0  1957-03-01  2022-12-30  0.041700  3.573165e+07   \n",
            "2022-12-30  75694.0  2021-08-30  2022-12-30 -0.024826  1.300967e+07   \n",
            "2022-12-30  18411.0  1944-06-07  2022-12-30  0.055736  7.774214e+07   \n",
            "\n",
            "                                   comnam    ncusip      namedt    nameendt  \\\n",
            "date                                                                          \n",
            "2000-01-31                    SNAP ON INC  83303410  1994-05-09  2002-01-01   \n",
            "2000-01-31               EXXON MOBIL CORP  30231G10  1999-12-01  2002-01-01   \n",
            "2000-01-31       UNITED TECHNOLOGIES CORP  91301710  1975-05-01  2002-01-01   \n",
            "2000-01-31          MICRON TECHNOLOGY INC  59511210  1990-11-30  2001-08-23   \n",
            "2000-01-31  AUTOMATIC DATA PROCESSING INC  05301510  1970-11-10  2000-11-30   \n",
            "...                                   ...       ...         ...         ...   \n",
            "2022-12-30            PROGRESSIVE CORP OH  74331510  2004-06-10  2022-12-30   \n",
            "2022-12-30          BOSTON PROPERTIES INC  10112110  2020-03-02  2022-12-30   \n",
            "2022-12-30                 HALLIBURTON CO  40621610  2004-06-10  2022-12-30   \n",
            "2022-12-30                BIO TECHNE CORP  09073M10  2014-11-04  2022-12-30   \n",
            "2022-12-30                    SOUTHERN CO  84258710  2017-02-22  2022-12-30   \n",
            "\n",
            "            shrcd  exchcd  hsiccd ticker        bm  \n",
            "date                                                \n",
            "2000-01-31   11.0     1.0  5251.0    SNA  0.000527  \n",
            "2000-01-31   11.0     1.0  2911.0    XOM  0.000152  \n",
            "2000-01-31   11.0     1.0  3724.0    UTX  0.000280  \n",
            "2000-01-31   11.0     1.0  3674.0     MU  0.000270  \n",
            "2000-01-31   11.0     1.0  7374.0    AUD  0.000143  \n",
            "...           ...     ...     ...    ...       ...  \n",
            "2022-12-30   11.0     1.0  6331.0    PGR       NaN  \n",
            "2022-12-30   18.0     1.0  6798.0    BXP       NaN  \n",
            "2022-12-30   11.0     1.0  1389.0    HAL       NaN  \n",
            "2022-12-30   11.0     3.0  2836.0   TECH       NaN  \n",
            "2022-12-30   11.0     1.0  4911.0     SO       NaN  \n",
            "\n",
            "[138443 rows x 14 columns]\n"
          ]
        }
      ],
      "source": [
        "import datetime as dt\n",
        "import yfinance as yf\n",
        "import pandas as pd\n",
        "import matplotlib.pyplot as plt\n",
        "\n",
        "#!pip install empyrical\n",
        "import numpy as np\n",
        "import empyrical as ep\n",
        "df = pd.read_csv('stocks_SP500.csv')\n",
        "df['date'] = pd.to_datetime(df['date'].str.strip(), format='%Y-%m-%d')\n",
        "df= df.set_index('date')\n",
        "print(df)"
      ]
    },
    {
      "cell_type": "markdown",
      "source": [
        "Don't need to run next code block if F-F_Research_Data_Factors.csv is already obtained."
      ],
      "metadata": {
        "id": "b6NKXdWZuTWG"
      }
    },
    {
      "cell_type": "code",
      "source": [
        "# import requests, zipfile, io\n",
        "# url = 'https://mba.tuck.dartmouth.edu/pages/faculty/ken.french/ftp/F-F_Research_Data_Factors_CSV.zip'\n",
        "# response = requests.get(url, stream=True)\n",
        "# zipfile = zipfile.ZipFile(io.BytesIO(response.content))\n",
        "# zipfile.extractall()\n",
        "# rf = pd.read_csv('F-F_Research_Data_Factors.CSV', skiprows=10)\n",
        "\n",
        "\n",
        "# clean the rf data manually - add date, delete the headers and annualy risk free rates at the end"
      ],
      "metadata": {
        "id": "mJoWX5aE9YVK"
      },
      "execution_count": null,
      "outputs": []
    },
    {
      "cell_type": "code",
      "source": [
        "rf = pd.read_csv('F-F_Research_Data_Factors.csv')\n",
        "#merge rf with df sample\n",
        "#put the dates in common format\n",
        "rf.index = pd.to_datetime(rf['date'], format='%Y%m',errors='coerce').dropna()\n",
        "rf.index = rf.index.strftime('%Y-%m')\n",
        "df.index = df.index.strftime('%Y-%m')\n",
        "df= df.join(rf)\n",
        "\n",
        "#df= pd.merge(df, rf)\n",
        "#calculating excess returns - RF is in %\n",
        "df[\"exret\"]= df[\"ret\"]- (df[\"RF\"]/100)\n",
        "df.index = pd.to_datetime(df.index, format='%Y-%m')\n",
        "print(df)"
      ],
      "metadata": {
        "colab": {
          "base_uri": "https://localhost:8080/"
        },
        "id": "oZKHfyW27hu2",
        "outputId": "9fafe3f9-a130-48b2-8b79-c8c5e18e1074"
      },
      "execution_count": null,
      "outputs": [
        {
          "output_type": "stream",
          "name": "stdout",
          "text": [
            "             permno       start      ending       ret          mcap  \\\n",
            "date                                                                  \n",
            "2000-01-01  60206.0  1982-09-16  2022-12-30  0.011765  1.572698e+06   \n",
            "2000-01-01  11850.0  1925-12-31  2022-12-30  0.035687  2.888251e+08   \n",
            "2000-01-01  17830.0  1957-03-01  2022-12-30 -0.185577  2.534335e+07   \n",
            "2000-01-01  53613.0  1994-09-27  2022-12-30 -0.200161  1.582193e+07   \n",
            "2000-01-01  44644.0  1981-02-26  2022-12-30 -0.119490  2.965356e+07   \n",
            "...             ...         ...         ...       ...           ...   \n",
            "2022-12-01  64390.0  1997-08-04  2022-12-30 -0.018464  7.588943e+07   \n",
            "2022-12-01  85058.0  2006-04-03  2022-12-30 -0.048835  1.059350e+07   \n",
            "2022-12-01  23819.0  1957-03-01  2022-12-30  0.041700  3.573165e+07   \n",
            "2022-12-01  75694.0  2021-08-30  2022-12-30 -0.024826  1.300967e+07   \n",
            "2022-12-01  18411.0  1944-06-07  2022-12-30  0.055736  7.774214e+07   \n",
            "\n",
            "                                   comnam    ncusip      namedt    nameendt  \\\n",
            "date                                                                          \n",
            "2000-01-01                    SNAP ON INC  83303410  1994-05-09  2002-01-01   \n",
            "2000-01-01               EXXON MOBIL CORP  30231G10  1999-12-01  2002-01-01   \n",
            "2000-01-01       UNITED TECHNOLOGIES CORP  91301710  1975-05-01  2002-01-01   \n",
            "2000-01-01          MICRON TECHNOLOGY INC  59511210  1990-11-30  2001-08-23   \n",
            "2000-01-01  AUTOMATIC DATA PROCESSING INC  05301510  1970-11-10  2000-11-30   \n",
            "...                                   ...       ...         ...         ...   \n",
            "2022-12-01            PROGRESSIVE CORP OH  74331510  2004-06-10  2022-12-30   \n",
            "2022-12-01          BOSTON PROPERTIES INC  10112110  2020-03-02  2022-12-30   \n",
            "2022-12-01                 HALLIBURTON CO  40621610  2004-06-10  2022-12-30   \n",
            "2022-12-01                BIO TECHNE CORP  09073M10  2014-11-04  2022-12-30   \n",
            "2022-12-01                    SOUTHERN CO  84258710  2017-02-22  2022-12-30   \n",
            "\n",
            "            shrcd  exchcd  hsiccd ticker        bm    date  Mkt-RF   SMB  \\\n",
            "date                                                                       \n",
            "2000-01-01   11.0     1.0  5251.0    SNA  0.000527  200001   -4.74  5.79   \n",
            "2000-01-01   11.0     1.0  2911.0    XOM  0.000152  200001   -4.74  5.79   \n",
            "2000-01-01   11.0     1.0  3724.0    UTX  0.000280  200001   -4.74  5.79   \n",
            "2000-01-01   11.0     1.0  3674.0     MU  0.000270  200001   -4.74  5.79   \n",
            "2000-01-01   11.0     1.0  7374.0    AUD  0.000143  200001   -4.74  5.79   \n",
            "...           ...     ...     ...    ...       ...     ...     ...   ...   \n",
            "2022-12-01   11.0     1.0  6331.0    PGR       NaN  202212   -6.41 -0.68   \n",
            "2022-12-01   18.0     1.0  6798.0    BXP       NaN  202212   -6.41 -0.68   \n",
            "2022-12-01   11.0     1.0  1389.0    HAL       NaN  202212   -6.41 -0.68   \n",
            "2022-12-01   11.0     3.0  2836.0   TECH       NaN  202212   -6.41 -0.68   \n",
            "2022-12-01   11.0     1.0  4911.0     SO       NaN  202212   -6.41 -0.68   \n",
            "\n",
            "             HML    RF     exret  \n",
            "date                              \n",
            "2000-01-01 -1.91  0.41  0.007665  \n",
            "2000-01-01 -1.91  0.41  0.031587  \n",
            "2000-01-01 -1.91  0.41 -0.189677  \n",
            "2000-01-01 -1.91  0.41 -0.204261  \n",
            "2000-01-01 -1.91  0.41 -0.123590  \n",
            "...          ...   ...       ...  \n",
            "2022-12-01  1.32  0.33 -0.021764  \n",
            "2022-12-01  1.32  0.33 -0.052135  \n",
            "2022-12-01  1.32  0.33  0.038400  \n",
            "2022-12-01  1.32  0.33 -0.028126  \n",
            "2022-12-01  1.32  0.33  0.052436  \n",
            "\n",
            "[138443 rows x 20 columns]\n"
          ]
        }
      ]
    },
    {
      "cell_type": "code",
      "source": [
        "# now keep date, permno, ticker, exret, and lag of size (market cap) in the dataframe\n",
        "df= df[[\"permno\", \"ticker\", \"exret\",\"mcap\",\"bm\"]]\n",
        "df['bm_lag'] = df.groupby(['permno'])['bm'].shift(1)\n",
        "#drop observations with nan variables\n",
        "df= df.dropna()\n",
        "print(df)"
      ],
      "metadata": {
        "colab": {
          "base_uri": "https://localhost:8080/"
        },
        "id": "PlBc7wrA7vX-",
        "outputId": "1128b11d-749c-46f6-ef1e-ceb6469fa4cb"
      },
      "execution_count": null,
      "outputs": [
        {
          "output_type": "stream",
          "name": "stdout",
          "text": [
            "             permno ticker     exret          mcap        bm    bm_lag\n",
            "date                                                                  \n",
            "2000-02-01  39917.0     WY -0.109964  1.209938e+07  0.000518  0.000463\n",
            "2000-02-01  25081.0    CMA -0.171202  5.757180e+06  0.000541  0.000451\n",
            "2000-02-01  49905.0    LIZ  0.106236  2.213193e+06  0.000456  0.000505\n",
            "2000-02-01  65875.0    BEL -0.214189  7.598946e+07  0.000252  0.000199\n",
            "2000-02-01  24678.0    WLA -0.100521  7.346918e+07  0.000062  0.000056\n",
            "...             ...    ...       ...           ...       ...       ...\n",
            "2021-12-01  92611.0      V  0.118288  3.613457e+08  0.000112  0.000126\n",
            "2021-12-01  76082.0   CTRA -0.053885  1.545798e+07  0.000202  0.000189\n",
            "2021-12-01  76201.0   XLNX -0.071976  5.266444e+07  0.000064  0.000055\n",
            "2021-12-01  76709.0   IDXX  0.082769  5.568070e+07  0.000019  0.000016\n",
            "2021-12-01  93246.0   GNRC -0.164662  2.220263e+07  0.000088  0.000068\n",
            "\n",
            "[51493 rows x 6 columns]\n"
          ]
        },
        {
          "output_type": "stream",
          "name": "stderr",
          "text": [
            "<ipython-input-16-270fff09c188>:3: SettingWithCopyWarning: \n",
            "A value is trying to be set on a copy of a slice from a DataFrame.\n",
            "Try using .loc[row_indexer,col_indexer] = value instead\n",
            "\n",
            "See the caveats in the documentation: https://pandas.pydata.org/pandas-docs/stable/user_guide/indexing.html#returning-a-view-versus-a-copy\n",
            "  df['bm_lag'] = df.groupby(['permno'])['bm'].shift(1)\n"
          ]
        }
      ]
    },
    {
      "cell_type": "code",
      "source": [
        "# form long/short portfolios based on their size\n",
        "df['rank'] = df.groupby(['date'])['bm_lag'].rank()\n",
        "df['n'] = df.groupby(['date'])['bm_lag'].count()\n",
        "df['group']= df[\"rank\"]/df['n']\n",
        "#long and short portfolios\n",
        "df['long'] = df.apply(lambda x : 1 if x['group'] > 0.95 else 0, axis=1)\n",
        "df['short'] = df.apply(lambda x : 1 if x['group'] < 0.05 else 0, axis=1)\n",
        "print(df)"
      ],
      "metadata": {
        "colab": {
          "base_uri": "https://localhost:8080/"
        },
        "id": "CeU-NTWy7yC3",
        "outputId": "ad271a87-d7db-478a-f81a-6610528becd0"
      },
      "execution_count": null,
      "outputs": [
        {
          "output_type": "stream",
          "name": "stdout",
          "text": [
            "             permno ticker     exret          mcap        bm    bm_lag   rank  \\\n",
            "date                                                                            \n",
            "2000-02-01  39917.0     WY -0.109964  1.209938e+07  0.000518  0.000463  288.0   \n",
            "2000-02-01  25081.0    CMA -0.171202  5.757180e+06  0.000541  0.000451  283.0   \n",
            "2000-02-01  49905.0    LIZ  0.106236  2.213193e+06  0.000456  0.000505  308.0   \n",
            "2000-02-01  65875.0    BEL -0.214189  7.598946e+07  0.000252  0.000199  144.0   \n",
            "2000-02-01  24678.0    WLA -0.100521  7.346918e+07  0.000062  0.000056   26.0   \n",
            "...             ...    ...       ...           ...       ...       ...    ...   \n",
            "2021-12-01  92611.0      V  0.118288  3.613457e+08  0.000112  0.000126  118.0   \n",
            "2021-12-01  76082.0   CTRA -0.053885  1.545798e+07  0.000202  0.000189  164.0   \n",
            "2021-12-01  76201.0   XLNX -0.071976  5.266444e+07  0.000064  0.000055   47.0   \n",
            "2021-12-01  76709.0   IDXX  0.082769  5.568070e+07  0.000019  0.000016    8.0   \n",
            "2021-12-01  93246.0   GNRC -0.164662  2.220263e+07  0.000088  0.000068   62.0   \n",
            "\n",
            "              n     group  long  short  \n",
            "date                                    \n",
            "2000-02-01  478  0.602510     0      0  \n",
            "2000-02-01  478  0.592050     0      0  \n",
            "2000-02-01  478  0.644351     0      0  \n",
            "2000-02-01  478  0.301255     0      0  \n",
            "2000-02-01  478  0.054393     0      0  \n",
            "...         ...       ...   ...    ...  \n",
            "2021-12-01  428  0.275701     0      0  \n",
            "2021-12-01  428  0.383178     0      0  \n",
            "2021-12-01  428  0.109813     0      0  \n",
            "2021-12-01  428  0.018692     0      1  \n",
            "2021-12-01  428  0.144860     0      0  \n",
            "\n",
            "[51493 rows x 11 columns]\n"
          ]
        }
      ]
    },
    {
      "cell_type": "code",
      "source": [
        "# Form long/short portfolios\n",
        "df_long= df[df[\"long\"]== 1]\n",
        "df_short= df[df[\"short\"]== 1]\n",
        "long_portfolio_returns= df_long.groupby(['date'])['exret'].mean()\n",
        "print(long_portfolio_returns)\n",
        "short_portfolio_returns= df_short.groupby(['date'])['exret'].mean()\n",
        "print(short_portfolio_returns)"
      ],
      "metadata": {
        "colab": {
          "base_uri": "https://localhost:8080/"
        },
        "id": "x2UDgPSP708G",
        "outputId": "1821fcb0-93f7-4bd2-a31d-ae297de28860"
      },
      "execution_count": null,
      "outputs": [
        {
          "output_type": "stream",
          "name": "stdout",
          "text": [
            "date\n",
            "2000-02-01   -0.110324\n",
            "2000-03-01    0.099707\n",
            "2000-06-01   -0.072339\n",
            "2000-07-01    0.095380\n",
            "2000-08-01    0.023657\n",
            "                ...   \n",
            "2020-09-01   -0.084575\n",
            "2020-12-01    0.057190\n",
            "2021-04-01    0.057965\n",
            "2021-09-01   -0.005200\n",
            "2021-12-01    0.049540\n",
            "Name: exret, Length: 117, dtype: float64\n",
            "date\n",
            "2000-02-01    0.151774\n",
            "2000-03-01    0.052354\n",
            "2000-06-01    0.127006\n",
            "2000-07-01   -0.015921\n",
            "2000-08-01    0.076243\n",
            "                ...   \n",
            "2020-09-01   -0.044859\n",
            "2020-12-01    0.052305\n",
            "2021-04-01    0.050660\n",
            "2021-09-01   -0.036046\n",
            "2021-12-01    0.053667\n",
            "Name: exret, Length: 112, dtype: float64\n"
          ]
        }
      ]
    },
    {
      "cell_type": "code",
      "source": [
        "# Combine portfolios: create long-short portfolio\n",
        "total_portfolio_returns = long_portfolio_returns - short_portfolio_returns\n",
        "# Print portfolio returns\n",
        "print(total_portfolio_returns)"
      ],
      "metadata": {
        "colab": {
          "base_uri": "https://localhost:8080/"
        },
        "id": "qL_-efrB74tB",
        "outputId": "767177b4-7673-4366-be91-7883a7cc17a6"
      },
      "execution_count": null,
      "outputs": [
        {
          "output_type": "stream",
          "name": "stdout",
          "text": [
            "date\n",
            "2000-02-01   -0.262098\n",
            "2000-03-01    0.047354\n",
            "2000-06-01   -0.199345\n",
            "2000-07-01    0.111301\n",
            "2000-08-01   -0.052585\n",
            "                ...   \n",
            "2020-09-01   -0.039716\n",
            "2020-12-01    0.004884\n",
            "2021-04-01    0.007305\n",
            "2021-09-01    0.030846\n",
            "2021-12-01   -0.004127\n",
            "Name: exret, Length: 117, dtype: float64\n"
          ]
        }
      ]
    },
    {
      "cell_type": "code",
      "source": [
        "# evaluate portfolio\n",
        "def strategy_eval(x, name):\n",
        "  strategy_avg = x.mean()\n",
        "  strategy_std = x.std()\n",
        "  strategy_MDD = ep.max_drawdown(x)\n",
        "  strategy_SR = (strategy_avg / strategy_std)\n",
        "  print(name, \"avg\", strategy_avg, \"std:\", strategy_std, \"MDD:\" , strategy_MDD, \"SR:\", strategy_SR)\n",
        "\n",
        "strategy_eval(total_portfolio_returns, \"H-L size portfolio\")\n",
        "# compare with equal weighted portfolio of all stocks\n",
        "ew_portfolio_returns= df.groupby(['date'])['exret'].mean()\n",
        "strategy_eval(ew_portfolio_returns, \"EW portfolio\")"
      ],
      "metadata": {
        "id": "VtB7JT7u784s",
        "colab": {
          "base_uri": "https://localhost:8080/"
        },
        "outputId": "35b88cc8-0dbb-4802-f6b7-9c66f0266a6f"
      },
      "execution_count": null,
      "outputs": [
        {
          "output_type": "stream",
          "name": "stdout",
          "text": [
            "H-L size portfolio avg 0.007217262236370358 std: 0.083189350288156 MDD: -0.49003857949654817 SR: 0.08675704535942155\n",
            "EW portfolio avg 0.018116652216466467 std: 0.06598737797029232 MDD: -0.2084623933615557 SR: 0.27454723575503526\n"
          ]
        }
      ]
    },
    {
      "cell_type": "code",
      "source": [
        "# Plot the cumulative returns for all 3 strategies\n",
        "cr_ew_portfolio_returns = (1 + ew_portfolio_returns).cumprod()\n",
        "cr_total_portfolio_returns = (1 + total_portfolio_returns).cumprod()\n",
        "plt.plot(cr_ew_portfolio_returns, label='Equal weighted strategy')\n",
        "plt.plot(cr_total_portfolio_returns, label='H-L size strategy')\n",
        "plt.legend()\n",
        "plt.show()"
      ],
      "metadata": {
        "colab": {
          "base_uri": "https://localhost:8080/",
          "height": 430
        },
        "id": "BHAYQOE18Ayh",
        "outputId": "68cd422c-212b-4fc6-804c-d489781d87bf"
      },
      "execution_count": null,
      "outputs": [
        {
          "output_type": "display_data",
          "data": {
            "text/plain": [
              "<Figure size 640x480 with 1 Axes>"
            ],
            "image/png": "[encoded data removed]"
          },
          "metadata": {}
        }
      ]
    },
    {
      "cell_type": "markdown",
      "source": [
        "Exercise 2: Find answers to the following questions by reading this article by Alpha Architect team: https://alphaarchitect.com/2014/10/07the-quantitative-value-investing-philosophy/\n",
        "1. What measure of value is best?\n",
        "2. How do we know that a value stock isn’t just one that is about to go bankrupt or is\n",
        "manipulating its accounting numbers?\n",
        "3. Can we find firms that are not just good values but that are actually good?\n",
        "4. How many stocks should one hold?\n",
        "5. Why isn’t everyone a value investor?"
      ],
      "metadata": {
        "id": "6KeUUW1cutxQ"
      }
    },
    {
      "cell_type": "markdown",
      "source": [
        "1) According to the article, the best measure of value is the enterprise multiple (EV/EBIT).\n",
        "\n",
        "2) To determine if a value stock is not just one that is about to go bankrupt or is manipulating its accounting numbers, the article recommends using a quality score to evaluate the company's financial health and management's ability to generate profits and reinvest in the business.\n",
        "\n",
        "3) Yes, the article suggests using a composite ranking system that combines measures of value, quality, and momentum to find firms that are not just good values but that are actually good.\n",
        "\n",
        "4) The article suggests holding a portfolio of 30-50 stocks to achieve adequate diversification while still allowing for concentration in the best ideas.\n",
        "\n",
        "5) The article proposes several reasons why not everyone is a value investor, including a lack of patience, a preference for high-growth stocks, and the tendency to be influenced by media hype and market trends. Additionally, the quantitative value investing approach can be complex and time-consuming, requiring significant research and analysis."
      ],
      "metadata": {
        "id": "mwrOOJBSu2P6"
      }
    }
  ]
}